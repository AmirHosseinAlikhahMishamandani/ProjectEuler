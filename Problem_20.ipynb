{
  "nbformat": 4,
  "nbformat_minor": 0,
  "metadata": {
    "colab": {
      "provenance": [],
      "authorship_tag": "ABX9TyNy8ggGDLnOyukFj251hGp6",
      "include_colab_link": true
    },
    "kernelspec": {
      "name": "python3",
      "display_name": "Python 3"
    },
    "language_info": {
      "name": "python"
    }
  },
  "cells": [
    {
      "cell_type": "markdown",
      "metadata": {
        "id": "view-in-github",
        "colab_type": "text"
      },
      "source": [
        "<a href=\"https://colab.research.google.com/github/AmirHosseinAlikhahMishamandani/ProjectEuler/blob/main/Problem_20.ipynb\" target=\"_parent\"><img src=\"https://colab.research.google.com/assets/colab-badge.svg\" alt=\"Open In Colab\"/></a>"
      ]
    },
    {
      "cell_type": "markdown",
      "source": [
        "# **Factorial Digit Sum**\n",
        "\n",
        "<p>$n!$ means $n \\times (n - 1) \\times \\cdots \\times 3 \\times 2 \\times 1$.</p>\n",
        "<p>For example, $10! = 10 \\times 9 \\times \\cdots \\times 3 \\times 2 \\times 1 = 3628800$,<br>and the sum of the digits in the number $10!$ is $3 + 6 + 2 + 8 + 8 + 0 + 0 = 27$.</p>\n",
        "<p>Find the sum of the digits in the number $100!$.</p>\n"
      ],
      "metadata": {
        "id": "EwOHsiHWpXv0"
      }
    },
    {
      "cell_type": "code",
      "execution_count": 4,
      "metadata": {
        "colab": {
          "base_uri": "https://localhost:8080/"
        },
        "id": "aYVARNLapR7_",
        "outputId": "c0f8bd49-60d7-4c8f-e601-b1e69b68d819"
      },
      "outputs": [
        {
          "output_type": "stream",
          "name": "stdout",
          "text": [
            "The sum of the digits in the number 100! is 648.\n"
          ]
        }
      ],
      "source": [
        "# Import the math module for factorial calculation\n",
        "import math\n",
        "\n",
        "# Calculate the factorial of 100 and convert it to a string\n",
        "num = str(math.factorial(100))\n",
        "\n",
        "# Initialize a variable to store the sum of the digits\n",
        "sum = 0\n",
        "\n",
        "# Iterate through each digit in the factorial result\n",
        "for digit in num:\n",
        "    # Convert the digit from a string to an integer and add it to the sum\n",
        "    sum = sum + int(digit)\n",
        "\n",
        "# Generate a formatted string to display the result\n",
        "result_message = f'The sum of the digits in the number 100! is {sum}.'\n",
        "\n",
        "# Print the result message\n",
        "print(result_message)"
      ]
    }
  ]
}