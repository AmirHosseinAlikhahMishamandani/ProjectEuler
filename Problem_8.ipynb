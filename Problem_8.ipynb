{
  "nbformat": 4,
  "nbformat_minor": 0,
  "metadata": {
    "colab": {
      "provenance": [],
      "authorship_tag": "ABX9TyMGdebCLQ8S60HpcYr7eOsf",
      "include_colab_link": true
    },
    "kernelspec": {
      "name": "python3",
      "display_name": "Python 3"
    },
    "language_info": {
      "name": "python"
    }
  },
  "cells": [
    {
      "cell_type": "markdown",
      "metadata": {
        "id": "view-in-github",
        "colab_type": "text"
      },
      "source": [
        "<a href=\"https://colab.research.google.com/github/AmirHosseinAlikhahMishamandani/ProjectEuler/blob/main/Problem_8.ipynb\" target=\"_parent\"><img src=\"https://colab.research.google.com/assets/colab-badge.svg\" alt=\"Open In Colab\"/></a>"
      ]
    },
    {
      "cell_type": "markdown",
      "source": [
        "# Largest Product in a Series\n",
        "\n",
        "## Problem 8\n",
        "\n",
        "<p>The four adjacent digits in the $1000$-digit number that have the greatest product are $9 \\times 9 \\times 8 \\times 9 = 5832$.</p>\n",
        "<p class=\"monospace center\">\n",
        "73167176531330624919225119674426574742355349194934<br>\n",
        "96983520312774506326239578318016984801869478851843<br>\n",
        "85861560789112949495459501737958331952853208805511<br>\n",
        "12540698747158523863050715693290963295227443043557<br>\n",
        "66896648950445244523161731856403098711121722383113<br>\n",
        "62229893423380308135336276614282806444486645238749<br>\n",
        "30358907296290491560440772390713810515859307960866<br>\n",
        "70172427121883998797908792274921901699720888093776<br>\n",
        "65727333001053367881220235421809751254540594752243<br>\n",
        "52584907711670556013604839586446706324415722155397<br>\n",
        "53697817977846174064955149290862569321978468622482<br>\n",
        "83972241375657056057490261407972968652414535100474<br>\n",
        "82166370484403199890008895243450658541227588666881<br>\n",
        "16427171479924442928230863465674813919123162824586<br>\n",
        "17866458359124566529476545682848912883142607690042<br>\n",
        "24219022671055626321111109370544217506941658960408<br>\n",
        "07198403850962455444362981230987879927244284909188<br>\n",
        "84580156166097919133875499200524063689912560717606<br>\n",
        "05886116467109405077541002256983155200055935729725<br>\n",
        "71636269561882670428252483600823257530420752963450<br></p>\n",
        "<p>Find the thirteen adjacent digits in the $1000$-digit number that have the greatest product. What is the value of this product?</p>"
      ],
      "metadata": {
        "id": "VH3J6GnidUwh"
      }
    },
    {
      "cell_type": "markdown",
      "source": [
        "## Solution\n",
        "\n",
        "Here's a breakdown of the algorithm used to solve this problem:\n",
        "\n",
        "1. **Storing the Number**: The 1000-digit number is stored as a long string. This is because working with such a large number directly as an integer would be impractical and inefficient in most programming languages.\n",
        "\n",
        "2. **Product Calculation Function**: A function named `product_of_digits` is defined. This function takes a string of digits, converts each digit to an integer, and calculates the product of these integers. For example, if the input string is `\"123\"`, it converts `'1'`, `'2'`, and `'3'` to integers and calculates \\(1 \\times 2 \\times 3 = 6\\).\n",
        "\n",
        "3. **Iterating Over the Number**: The algorithm iterates over the 1000-digit number, considering every possible sequence of 13 adjacent digits. This is done by using a loop that starts from the beginning of the number and moves one digit at a time towards the end. In each iteration, it takes a substring of length 13 starting from the current position.\n",
        "\n",
        "4. **Calculating Product for Each Substring**: For each 13-digit substring, the `product_of_digits` function is called to calculate its product.\n",
        "\n",
        "5. **Finding the Maximum Product**: The algorithm keeps track of the maximum product found so far. After calculating the product of a new 13-digit substring, it compares this product with the current maximum. If the new product is larger, it updates the maximum product.\n",
        "\n",
        "6. **Result**: Once the loop has gone through the entire 1000-digit number, the maximum product found during these iterations is the final result. This is the largest product of any thirteen adjacent digits in the number.\n",
        "\n",
        "In summary, the algorithm efficiently examines each possible group of 13 digits in the number, calculates their product, and keeps track of the highest product found."
      ],
      "metadata": {
        "id": "mQhG8bH8fqDc"
      }
    },
    {
      "cell_type": "code",
      "execution_count": 2,
      "metadata": {
        "colab": {
          "base_uri": "https://localhost:8080/"
        },
        "id": "umH9NyeGdSxN",
        "outputId": "7530c9af-5660-4909-9a21-f8a1bb06c442"
      },
      "outputs": [
        {
          "output_type": "stream",
          "name": "stdout",
          "text": [
            "23514624000\n"
          ]
        }
      ],
      "source": [
        "# Given a 1000-digit number, we need to find the thirteen adjacent digits that have the greatest product.\n",
        "\n",
        "# The number is provided as a string, so we can iterate over it, compute the product of each set of 13 digits, and keep track of the maximum product.\n",
        "\n",
        "number = (\n",
        "    \"73167176531330624919225119674426574742355349194934\"\n",
        "    \"96983520312774506326239578318016984801869478851843\"\n",
        "    \"85861560789112949495459501737958331952853208805511\"\n",
        "    \"12540698747158523863050715693290963295227443043557\"\n",
        "    \"66896648950445244523161731856403098711121722383113\"\n",
        "    \"62229893423380308135336276614282806444486645238749\"\n",
        "    \"30358907296290491560440772390713810515859307960866\"\n",
        "    \"70172427121883998797908792274921901699720888093776\"\n",
        "    \"65727333001053367881220235421809751254540594752243\"\n",
        "    \"52584907711670556013604839586446706324415722155397\"\n",
        "    \"53697817977846174064955149290862569321978468622482\"\n",
        "    \"83972241375657056057490261407972968652414535100474\"\n",
        "    \"82166370484403199890008895243450658541227588666881\"\n",
        "    \"16427171479924442928230863465674813919123162824586\"\n",
        "    \"17866458359124566529476545682848912883142607690042\"\n",
        "    \"24219022671055626321111109370544217506941658960408\"\n",
        "    \"07198403850962455444362981230987879927244284909188\"\n",
        "    \"84580156166097919133875499200524063689912560717606\"\n",
        "    \"05886116467109405077541002256983155200055935729725\"\n",
        "    \"71636269561882670428252483600823257530420752963450\"\n",
        ")\n",
        "\n",
        "# Define a function to calculate the product of digits in a string\n",
        "def product_of_digits(s):\n",
        "    product = 1\n",
        "    for digit in s:\n",
        "        product *= int(digit)\n",
        "    return product\n",
        "\n",
        "# Iterate over the number to find the maximum product of 13 adjacent digits\n",
        "max_product = 0\n",
        "for i in range(len(number) - 12):\n",
        "    current_product = product_of_digits(number[i:i+13])\n",
        "    if current_product > max_product:\n",
        "        max_product = current_product\n",
        "\n",
        "print(max_product)"
      ]
    }
  ]
}