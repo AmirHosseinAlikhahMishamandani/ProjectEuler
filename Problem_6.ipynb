{
  "nbformat": 4,
  "nbformat_minor": 0,
  "metadata": {
    "colab": {
      "provenance": [],
      "authorship_tag": "ABX9TyMxT9wQYZJl5i3x/EDEPyYU",
      "include_colab_link": true
    },
    "kernelspec": {
      "name": "python3",
      "display_name": "Python 3"
    },
    "language_info": {
      "name": "python"
    }
  },
  "cells": [
    {
      "cell_type": "markdown",
      "metadata": {
        "id": "view-in-github",
        "colab_type": "text"
      },
      "source": [
        "<a href=\"https://colab.research.google.com/github/AmirHosseinAlikhahMishamandani/ProjectEuler/blob/main/Problem_6.ipynb\" target=\"_parent\"><img src=\"https://colab.research.google.com/assets/colab-badge.svg\" alt=\"Open In Colab\"/></a>"
      ]
    },
    {
      "cell_type": "markdown",
      "source": [
        "# Sum Square Difference\n",
        "\n",
        "## Problem 6\n",
        "\n",
        "<p>The sum of the squares of the first ten natural numbers is,</p>\n",
        "$$1^2 + 2^2 + ... + 10^2 = 385.$$\n",
        "<p>The square of the sum of the first ten natural numbers is,</p>\n",
        "$$(1 + 2 + ... + 10)^2 = 55^2 = 3025.$$\n",
        "<p>Hence the difference between the sum of the squares of the first ten natural numbers and the square of the sum is $3025 - 385 = 2640$.</p>\n",
        "<p>Find the difference between the sum of the squares of the first one hundred natural numbers and the square of the sum.</p>"
      ],
      "metadata": {
        "id": "9jbYoEqHYPWo"
      }
    },
    {
      "cell_type": "code",
      "execution_count": 3,
      "metadata": {
        "colab": {
          "base_uri": "https://localhost:8080/"
        },
        "id": "eFTWmmVjXsIp",
        "outputId": "e57376f7-33ae-4f49-d254-4eee2c00d869"
      },
      "outputs": [
        {
          "output_type": "stream",
          "name": "stdout",
          "text": [
            "25164150.0\n"
          ]
        }
      ],
      "source": [
        "# Define the number of natural numbers to consider\n",
        "n = 100\n",
        "\n",
        "# Calculate the square of the sum of the first 'n' natural numbers using the formula\n",
        "Square_of_Sum = (n * (n + 1) / 2) ** 2\n",
        "\n",
        "# Calculate the sum of the squares of the first 'n' natural numbers using the formula\n",
        "Sum_of_Squares = (n * (n + 1) * (2 * n + 1)) / 6\n",
        "\n",
        "# Calculate the difference between the square of the sum and the sum of squares\n",
        "Sum_Square_Difference = Square_of_Sum - Sum_of_Squares\n",
        "\n",
        "# Print the result, which is the difference between the two calculations\n",
        "print(Sum_Square_Difference)"
      ]
    }
  ]
}