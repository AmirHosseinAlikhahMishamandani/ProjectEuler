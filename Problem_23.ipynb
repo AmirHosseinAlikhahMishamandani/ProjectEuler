{
  "nbformat": 4,
  "nbformat_minor": 0,
  "metadata": {
    "colab": {
      "provenance": [],
      "authorship_tag": "ABX9TyOO+xd32NBFa/npnEH4SBX+",
      "include_colab_link": true
    },
    "kernelspec": {
      "name": "python3",
      "display_name": "Python 3"
    },
    "language_info": {
      "name": "python"
    }
  },
  "cells": [
    {
      "cell_type": "markdown",
      "metadata": {
        "id": "view-in-github",
        "colab_type": "text"
      },
      "source": [
        "<a href=\"https://colab.research.google.com/github/AmirHosseinAlikhahMishamandani/ProjectEuler/blob/main/Problem_23.ipynb\" target=\"_parent\"><img src=\"https://colab.research.google.com/assets/colab-badge.svg\" alt=\"Open In Colab\"/></a>"
      ]
    },
    {
      "cell_type": "markdown",
      "source": [
        "# **Non-Abundant Sums**\n",
        "\n",
        "<p>A perfect number is a number for which the sum of its proper divisors is exactly equal to the number. For example, the sum of the proper divisors of $28$ would be $1 + 2 + 4 + 7 + 14 = 28$, which means that $28$ is a perfect number.</p>\n",
        "<p>A number $n$ is called deficient if the sum of its proper divisors is less than $n$ and it is called abundant if this sum exceeds $n$.</p>\n",
        "\n",
        "<p>As $12$ is the smallest abundant number, $1 + 2 + 3 + 4 + 6 = 16$, the smallest number that can be written as the sum of two abundant numbers is $24$. By mathematical analysis, it can be shown that all integers greater than $28123$ can be written as the sum of two abundant numbers. However, this upper limit cannot be reduced any further by analysis even though it is known that the greatest number that cannot be expressed as the sum of two abundant numbers is less than this limit.</p>\n",
        "<p>Find the sum of all the positive integers which cannot be written as the sum of two abundant numbers.</p>\n"
      ],
      "metadata": {
        "id": "V-lMLVq04ZXN"
      }
    },
    {
      "cell_type": "markdown",
      "source": [
        "# **Solution**\n",
        "\n",
        "## 1. Function: `get_divisors_sum(n)`\n",
        "This function calculates the sum of proper divisors of a number `n`. Proper divisors of a number are the divisors excluding the number itself.\n",
        "\n",
        "### How it Works\n",
        "- It starts with a sum of `1` since `1` is a divisor of every number.\n",
        "- It iterates through all possible divisors up to the square root of `n`.\n",
        "- For each divisor found, it adds both the divisor and its complement (n / divisor) to the sum.\n",
        "- It ensures not to double-count the divisor in case of perfect squares.\n",
        "\n",
        "## 2. Function: `find_abundant_numbers(limit)`\n",
        "This function finds all abundant numbers up to a given `limit`. An abundant number is one for which the sum of its proper divisors exceeds the number itself.\n",
        "\n",
        "### How it Works\n",
        "- It iterates through numbers from 12 (the smallest abundant number) to the given `limit`.\n",
        "- For each number, it checks if the sum of its proper divisors (using `get_divisors_sum`) is greater than the number.\n",
        "- If it is, the number is abundant and added to the list.\n",
        "\n",
        "## 3. Function: `sum_of_non_abundant_sums(limit)`\n",
        "This function calculates the sum of all numbers up to a `limit` that cannot be expressed as the sum of two abundant numbers.\n",
        "\n",
        "### How it Works\n",
        "- First, it finds all abundant numbers up to the `limit` using `find_abundant_numbers`.\n",
        "- It creates a boolean array `can_be_written_as_abundant_sum` to track if a number can be written as the sum of two abundant numbers.\n",
        "- It then iterates through pairs of abundant numbers. For each pair, it calculates their sum.\n",
        "- If the sum is less than or equal to the `limit`, it marks the corresponding index in the boolean array as `True`.\n",
        "- Finally, it sums up all indices in the boolean array that are still `False`, meaning these numbers cannot be written as the sum of two abundant numbers.\n",
        "\n",
        "## Final Step\n",
        "- The limit is set to 28,123, and `sum_of_non_abundant_sums(limit)` is called to find the required sum."
      ],
      "metadata": {
        "id": "Z1XlzhX66kEt"
      }
    },
    {
      "cell_type": "code",
      "execution_count": 6,
      "metadata": {
        "colab": {
          "base_uri": "https://localhost:8080/"
        },
        "id": "I1F1BrRH4HSJ",
        "outputId": "028dc39a-3ea7-4c8c-98d0-1e703916dad0"
      },
      "outputs": [
        {
          "output_type": "execute_result",
          "data": {
            "text/plain": [
              "4179871"
            ]
          },
          "metadata": {},
          "execution_count": 6
        }
      ],
      "source": [
        "def get_divisors_sum(n):\n",
        "    \"\"\"Returns the sum of proper divisors of n\"\"\"\n",
        "    divisors_sum = 1\n",
        "    for i in range(2, int(n**0.5) + 1):\n",
        "        if n % i == 0:\n",
        "            divisors_sum += i\n",
        "            if i != n // i:\n",
        "                divisors_sum += n // i\n",
        "    return divisors_sum\n",
        "\n",
        "def find_abundant_numbers(limit):\n",
        "    \"\"\"Finds all abundant numbers up to the given limit\"\"\"\n",
        "    return [i for i in range(12, limit) if get_divisors_sum(i) > i]\n",
        "\n",
        "def sum_of_non_abundant_sums(limit):\n",
        "    \"\"\"Calculate the sum of all numbers which cannot be written as the sum of two abundant numbers\"\"\"\n",
        "    abundant_numbers = find_abundant_numbers(limit)\n",
        "    can_be_written_as_abundant_sum = [False] * (limit + 1)\n",
        "\n",
        "    # Mark all numbers that can be written as the sum of two abundant numbers\n",
        "    for i in range(len(abundant_numbers)):\n",
        "        for j in range(i, len(abundant_numbers)):\n",
        "            sum_abundant = abundant_numbers[i] + abundant_numbers[j]\n",
        "            if sum_abundant <= limit:\n",
        "                can_be_written_as_abundant_sum[sum_abundant] = True\n",
        "\n",
        "    # Sum all numbers which cannot be written as the sum of two abundant numbers\n",
        "    return sum(i for i, can_be_written in enumerate(can_be_written_as_abundant_sum) if not can_be_written)\n",
        "\n",
        "# Define the limit as given in the problem statement\n",
        "limit = 28123\n",
        "\n",
        "# Calculate the sum\n",
        "sum_of_non_abundant_sums(limit)\n"
      ]
    }
  ]
}