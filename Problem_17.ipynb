{
  "nbformat": 4,
  "nbformat_minor": 0,
  "metadata": {
    "colab": {
      "provenance": [],
      "authorship_tag": "ABX9TyMeU1rcKI3s0N759dF6YPtt",
      "include_colab_link": true
    },
    "kernelspec": {
      "name": "python3",
      "display_name": "Python 3"
    },
    "language_info": {
      "name": "python"
    }
  },
  "cells": [
    {
      "cell_type": "markdown",
      "metadata": {
        "id": "view-in-github",
        "colab_type": "text"
      },
      "source": [
        "<a href=\"https://colab.research.google.com/github/AmirHosseinAlikhahMishamandani/ProjectEuler/blob/main/Problem_17.ipynb\" target=\"_parent\"><img src=\"https://colab.research.google.com/assets/colab-badge.svg\" alt=\"Open In Colab\"/></a>"
      ]
    },
    {
      "cell_type": "markdown",
      "source": [
        "# **Number Letter Counts**\n",
        "\n",
        "<p>If the numbers $1$ to $5$ are written out in words: one, two, three, four, five, then there are $3 + 3 + 5 + 4 + 4 = 19$ letters used in total.</p>\n",
        "<p>If all the numbers from $1$ to $1000$ (one thousand) inclusive were written out in words, how many letters would be used? </p>\n",
        "<br><p class=\"note\"><b>NOTE:</b> Do not count spaces or hyphens. For example, $342$ (three hundred and forty-two) contains $23$ letters and $115$ (one hundred and fifteen) contains $20$ letters. The use of \"and\" when writing out numbers is in compliance with British usage.</p>"
      ],
      "metadata": {
        "id": "_u6cRq96iFDx"
      }
    },
    {
      "cell_type": "markdown",
      "source": [
        "# **Solution**\n",
        "\n",
        "1. **Create a Mapping for Numbers to Words**\n",
        "   - Create a dictionary that maps numbers to their corresponding words for numbers 1-19, and multiples of ten up to 90.\n",
        "\n",
        "2. **Define a Function to Count Letters in a Single Number**\n",
        "   - The `count_letters` function:\n",
        "     - For numbers **up to 20**: Directly return the length of the word from the dictionary.\n",
        "     - For numbers **between 21 and 99**: Split the number into tens and ones, find their words and add their lengths.\n",
        "     - For numbers **between 100 and 999**: Split the number into hundreds and the remainder. Include \"hundred\" and \"and\" as necessary. Use recursion for the remainder.\n",
        "     - For the number **1000**: Return the length of \"one thousand\".\n",
        "\n",
        "3. **Define a Function to Sum Letters for a Range of Numbers**\n",
        "   - The `total_letters` function sums the number of letters for all numbers within a given range. It iterates through each number, calls `count_letters` for each, and sums the counts.\n",
        "\n",
        "4. **Calculate the Total Letters**\n",
        "   - Call `total_letters` with 1 and 1000 as arguments to get the total number of letters used when numbers from 1 to 1000 are written in words.\n",
        "\n",
        "This algorithm efficiently handles the task by breaking down the problem, using a dictionary for direct mappings, and recursion for complex cases, while adhering to the British English convention.\n"
      ],
      "metadata": {
        "id": "jTJL-bd_kDrM"
      }
    },
    {
      "cell_type": "code",
      "execution_count": 1,
      "metadata": {
        "colab": {
          "base_uri": "https://localhost:8080/",
          "height": 35
        },
        "id": "WglkMvYkhvfT",
        "outputId": "558e1def-639b-49c2-ea7b-d1f8aa079855"
      },
      "outputs": [
        {
          "output_type": "execute_result",
          "data": {
            "text/plain": [
              "'The total number of letters used to write out all numbers from 1 to 1000 is 21124'"
            ],
            "application/vnd.google.colaboratory.intrinsic+json": {
              "type": "string"
            }
          },
          "metadata": {},
          "execution_count": 1
        }
      ],
      "source": [
        "def count_letters(number):\n",
        "    \"\"\"Count the number of letters used to write out a number in British English.\"\"\"\n",
        "    num_to_words = {1: 'one', 2: 'two', 3: 'three', 4: 'four', 5: 'five', 6: 'six', 7: 'seven', 8: 'eight', 9: 'nine',\n",
        "                    10: 'ten', 11: 'eleven', 12: 'twelve', 13: 'thirteen', 14: 'fourteen', 15: 'fifteen', 16: 'sixteen',\n",
        "                    17: 'seventeen', 18: 'eighteen', 19: 'nineteen', 20: 'twenty', 30: 'thirty', 40: 'forty',\n",
        "                    50: 'fifty', 60: 'sixty', 70: 'seventy', 80: 'eighty', 90: 'ninety'}\n",
        "\n",
        "    if number <= 20:\n",
        "        return len(num_to_words[number])\n",
        "    elif number < 100:\n",
        "        tens, ones = divmod(number, 10)\n",
        "        return len(num_to_words[tens * 10]) + (len(num_to_words[ones]) if ones else 0)\n",
        "    elif number < 1000:\n",
        "        hundreds, remainder = divmod(number, 100)\n",
        "        if remainder:\n",
        "            return len(num_to_words[hundreds]) + len('hundredand') + count_letters(remainder)\n",
        "        else:\n",
        "            return len(num_to_words[hundreds]) + len('hundred')\n",
        "    elif number == 1000:\n",
        "        return len('onethousand')\n",
        "\n",
        "def total_letters(start, end):\n",
        "    \"\"\"Calculate the total number of letters used to write out all numbers from start to end.\"\"\"\n",
        "    return sum(count_letters(number) for number in range(start, end + 1))\n",
        "\n",
        "# Calculate the total number of letters used to write out all numbers from 1 to 1000.\n",
        "total_letters_1_to_1000 = total_letters(1, 1000)\n",
        "\n",
        "f'The total number of letters used to write out all numbers from 1 to 1000 is {total_letters_1_to_1000}'"
      ]
    }
  ]
}