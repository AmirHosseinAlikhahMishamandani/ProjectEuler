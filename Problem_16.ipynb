{
  "nbformat": 4,
  "nbformat_minor": 0,
  "metadata": {
    "colab": {
      "provenance": [],
      "authorship_tag": "ABX9TyN4syMTmifeBRTQtfyP9sG1",
      "include_colab_link": true
    },
    "kernelspec": {
      "name": "python3",
      "display_name": "Python 3"
    },
    "language_info": {
      "name": "python"
    }
  },
  "cells": [
    {
      "cell_type": "markdown",
      "metadata": {
        "id": "view-in-github",
        "colab_type": "text"
      },
      "source": [
        "<a href=\"https://colab.research.google.com/github/AmirHosseinAlikhahMishamandani/ProjectEuler/blob/main/Problem_16.ipynb\" target=\"_parent\"><img src=\"https://colab.research.google.com/assets/colab-badge.svg\" alt=\"Open In Colab\"/></a>"
      ]
    },
    {
      "cell_type": "markdown",
      "source": [
        "# Power Digit Sum\n",
        "\n",
        "<p>$2^{15} = 32768$ and the sum of its digits is $3 + 2 + 7 + 6 + 8 = 26$.</p>\n",
        "<p>What is the sum of the digits of the number $2^{1000}$?</p>"
      ],
      "metadata": {
        "id": "7nOGP1KagmMn"
      }
    },
    {
      "cell_type": "code",
      "execution_count": 2,
      "metadata": {
        "colab": {
          "base_uri": "https://localhost:8080/"
        },
        "id": "kCJKLqcQgjNC",
        "outputId": "575111b8-ebb5-4737-8b56-6158bd24aff3"
      },
      "outputs": [
        {
          "output_type": "stream",
          "name": "stdout",
          "text": [
            "The sum of the digits of the number 2^1000 is 1366\n"
          ]
        }
      ],
      "source": [
        "# Calculate 2^1000 and convert it to a string\n",
        "num = str(2**1000)\n",
        "\n",
        "# Initialize a variable to store the sum of digits\n",
        "sum_of_digits = 0\n",
        "\n",
        "# Iterate through each digit in the string\n",
        "for digit in num:\n",
        "    # Convert the digit back to an integer and add it to the sum\n",
        "    sum_of_digits += int(digit)\n",
        "\n",
        "# Create a formatted string to display the result\n",
        "result_string = f'The sum of the digits of the number 2^1000 is {sum_of_digits}'\n",
        "\n",
        "# Print the result\n",
        "print(result_string)"
      ]
    }
  ]
}