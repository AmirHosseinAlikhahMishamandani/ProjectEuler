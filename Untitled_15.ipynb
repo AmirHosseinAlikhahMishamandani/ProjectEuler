{
  "nbformat": 4,
  "nbformat_minor": 0,
  "metadata": {
    "colab": {
      "provenance": [],
      "authorship_tag": "ABX9TyO1F7uxqYGRLKDkgNBWwxci",
      "include_colab_link": true
    },
    "kernelspec": {
      "name": "python3",
      "display_name": "Python 3"
    },
    "language_info": {
      "name": "python"
    }
  },
  "cells": [
    {
      "cell_type": "markdown",
      "metadata": {
        "id": "view-in-github",
        "colab_type": "text"
      },
      "source": [
        "<a href=\"https://colab.research.google.com/github/AmirHosseinAlikhahMishamandani/ProjectEuler/blob/main/Untitled_15.ipynb\" target=\"_parent\"><img src=\"https://colab.research.google.com/assets/colab-badge.svg\" alt=\"Open In Colab\"/></a>"
      ]
    },
    {
      "cell_type": "markdown",
      "source": [
        "# Lattice Paths\n",
        "\n",
        "<p>Starting in the top left corner of a $2 \\times 2$ grid, and only being able to move to the right and down, there are exactly $6$ routes to the bottom right corner.</p>\n",
        "<div class=\"center\"><img src=\"https://projecteuler.net/resources/images/0015.png?1678992052\" class=\"dark_img\" alt=\"\"></div>\n",
        "<p>How many such routes are there through a $20 \\times 20$ grid?</p>\n"
      ],
      "metadata": {
        "id": "oHimk46Sd7xC"
      }
    },
    {
      "cell_type": "markdown",
      "source": [
        "# **Solution**\n",
        "\n",
        "To determine the number of routes through a 20×20 grid, where the only movements allowed are to the right and down, we use combinatorics. In such a grid, to reach the bottom right corner from the top left corner, one must move right 20 times and down 20 times, in any order. The problem is to find the number of different ways to arrange these 40 moves (20 right and 20 down).\n",
        "\n",
        "This is calculated using the formula for combinations, where the number of combinations of \\(n\\) things taken \\(k\\) at a time is given by:\n",
        "\n",
        "$\\binom{n}{k} = \\frac{n!}{k!(n-k)!}$\n",
        "\n",
        "Here, \\(n\\) is the total number of moves (40), and \\(k\\) is the number of right or down moves (20). The formula calculates the number of ways to choose 20 moves (either right or down) out of 40, which equals the number of paths through the grid.\n"
      ],
      "metadata": {
        "id": "SIFVZup2fA5z"
      }
    },
    {
      "cell_type": "code",
      "execution_count": 2,
      "metadata": {
        "colab": {
          "base_uri": "https://localhost:8080/",
          "height": 52
        },
        "id": "wHWM1U98dztJ",
        "outputId": "1bb7e929-e048-4b39-dfe6-492812bc239b"
      },
      "outputs": [
        {
          "output_type": "execute_result",
          "data": {
            "text/plain": [
              "'Starting in the top left corner of a  20×20  grid, and only being able to move to the right and down, there are exactly 137846528820 routes to the bottom right corner.'"
            ],
            "application/vnd.google.colaboratory.intrinsic+json": {
              "type": "string"
            }
          },
          "metadata": {},
          "execution_count": 2
        }
      ],
      "source": [
        "import math\n",
        "\n",
        "# Total number of moves (right + down)\n",
        "total_moves = 20 + 20\n",
        "\n",
        "# Number of right or down moves\n",
        "moves = 20\n",
        "\n",
        "# Calculate the number of paths using the combination formula\n",
        "num_paths = math.comb(total_moves, moves)\n",
        "\n",
        "f'Starting in the top left corner of a  20×20  grid, and only being able to move to the right and down, there are exactly {num_paths} routes to the bottom right corner.'"
      ]
    }
  ]
}