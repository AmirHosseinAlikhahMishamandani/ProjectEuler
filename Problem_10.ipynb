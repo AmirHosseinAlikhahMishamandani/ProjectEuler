{
  "nbformat": 4,
  "nbformat_minor": 0,
  "metadata": {
    "colab": {
      "provenance": [],
      "authorship_tag": "ABX9TyMXayVg7o1GIK8mLEC8KDZk",
      "include_colab_link": true
    },
    "kernelspec": {
      "name": "python3",
      "display_name": "Python 3"
    },
    "language_info": {
      "name": "python"
    }
  },
  "cells": [
    {
      "cell_type": "markdown",
      "metadata": {
        "id": "view-in-github",
        "colab_type": "text"
      },
      "source": [
        "<a href=\"https://colab.research.google.com/github/AmirHosseinAlikhahMishamandani/ProjectEuler/blob/main/Problem_10.ipynb\" target=\"_parent\"><img src=\"https://colab.research.google.com/assets/colab-badge.svg\" alt=\"Open In Colab\"/></a>"
      ]
    },
    {
      "cell_type": "markdown",
      "source": [
        "# Summation of Primes\n",
        "\n",
        "## Problem 10\n",
        "\n",
        "<p>The sum of the primes below $10$ is $2 + 3 + 5 + 7 = 17$.</p>\n",
        "<p>Find the sum of all the primes below two million.</p>\n"
      ],
      "metadata": {
        "id": "WaSI4ksQi2r4"
      }
    },
    {
      "cell_type": "code",
      "execution_count": 1,
      "metadata": {
        "colab": {
          "base_uri": "https://localhost:8080/"
        },
        "id": "NcAFDVFbi1AV",
        "outputId": "fc6ee997-ebf0-4584-edf0-8c83900241ba"
      },
      "outputs": [
        {
          "output_type": "stream",
          "name": "stdout",
          "text": [
            "142913828922\n"
          ]
        }
      ],
      "source": [
        "from sympy import primerange\n",
        "\n",
        "# Sum of all primes below two million\n",
        "sum_of_primes = sum(primerange(1, 2000000))\n",
        "print(sum_of_primes)"
      ]
    }
  ]
}