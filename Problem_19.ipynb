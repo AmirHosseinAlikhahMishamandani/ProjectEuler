{
  "nbformat": 4,
  "nbformat_minor": 0,
  "metadata": {
    "colab": {
      "provenance": [],
      "authorship_tag": "ABX9TyNZavyXyX2q2gOurNxc0vfg",
      "include_colab_link": true
    },
    "kernelspec": {
      "name": "python3",
      "display_name": "Python 3"
    },
    "language_info": {
      "name": "python"
    }
  },
  "cells": [
    {
      "cell_type": "markdown",
      "metadata": {
        "id": "view-in-github",
        "colab_type": "text"
      },
      "source": [
        "<a href=\"https://colab.research.google.com/github/AmirHosseinAlikhahMishamandani/ProjectEuler/blob/main/Problem_19.ipynb\" target=\"_parent\"><img src=\"https://colab.research.google.com/assets/colab-badge.svg\" alt=\"Open In Colab\"/></a>"
      ]
    },
    {
      "cell_type": "markdown",
      "source": [
        "# **Counting Sundays**\n",
        "\n",
        "\n",
        "<p>You are given the following information, but you may prefer to do some research for yourself.</p>\n",
        "<ul><li>1 Jan 1900 was a Monday.</li>\n",
        "<li>Thirty days has September,<br />\n",
        "April, June and November.<br />\n",
        "All the rest have thirty-one,<br />\n",
        "Saving February alone,<br />\n",
        "Which has twenty-eight, rain or shine.<br />\n",
        "And on leap years, twenty-nine.</li>\n",
        "<li>A leap year occurs on any year evenly divisible by 4, but not on a century unless it is divisible by 400.</li>\n",
        "</ul><p>How many Sundays fell on the first of the month during the twentieth century (1 Jan 1901 to 31 Dec 2000)?</p>\n"
      ],
      "metadata": {
        "id": "ahCBfQOHoNpo"
      }
    },
    {
      "cell_type": "markdown",
      "source": [
        "# **Solution**\n",
        "\n",
        "To solve this problem, we need to write an algorithm that counts the number of Sundays that fell on the first day of the month during the twentieth century (from January 1, 1901, to December 31, 2000). Here are the steps we'll follow in our algorithm:\n",
        "\n",
        "Initialize the Date: Start from January 1, 1901. We know January 1, 1900, was a Monday, so January 1, 1901, is a Tuesday (since 1900 is not a leap year).\n",
        "Leap Year Calculation: Determine if a year is a leap year. A year is a leap year if it is divisible by 4, except for end-of-century years, which must be divisible by 400.\n",
        "Days in a Month: Use the rhyme to determine the number of days in each month, considering February's variation in leap years.\n",
        "Advance Through the Calendar: Move through each month of each year, keeping track of the day of the week. Increment a counter whenever the first day of a month is a Sunday.\n",
        "Count Sundays: Continue until December 31, 2000, and return the count of Sundays that fell on the first of the month."
      ],
      "metadata": {
        "id": "Gcw3HY2doiru"
      }
    },
    {
      "cell_type": "code",
      "execution_count": 2,
      "metadata": {
        "colab": {
          "base_uri": "https://localhost:8080/",
          "height": 35
        },
        "id": "O3j2LTl8oE3J",
        "outputId": "7a86e480-09f1-430a-ad49-c3dbc4d3e5ef"
      },
      "outputs": [
        {
          "output_type": "execute_result",
          "data": {
            "text/plain": [
              "'The number of Sundays that fell on the first of the month from 1901 to 2000 is 171'"
            ],
            "application/vnd.google.colaboratory.intrinsic+json": {
              "type": "string"
            }
          },
          "metadata": {},
          "execution_count": 2
        }
      ],
      "source": [
        "def count_sundays_on_first_of_month(start_year, end_year):\n",
        "    # Days of the week, where 0 is Monday and 6 is Sunday\n",
        "    days = [\"Monday\", \"Tuesday\", \"Wednesday\", \"Thursday\", \"Friday\", \"Saturday\", \"Sunday\"]\n",
        "\n",
        "    # Initialize the variables\n",
        "    day_of_week = 1  # January 1, 1901, is a Tuesday\n",
        "    sunday_count = 0\n",
        "\n",
        "    # Loop through each year\n",
        "    for year in range(start_year, end_year + 1):\n",
        "        # Determine if the current year is a leap year\n",
        "        leap_year = (year % 4 == 0 and year % 100 != 0) or (year % 400 == 0)\n",
        "\n",
        "        # Loop through each month\n",
        "        for month in range(1, 13):\n",
        "            # Check if the first of the month is a Sunday\n",
        "            if day_of_week == 6:  # 6 corresponds to Sunday\n",
        "                sunday_count += 1\n",
        "\n",
        "            # Determine the number of days in the month\n",
        "            if month in [9, 4, 6, 11]:  # September, April, June, November\n",
        "                days_in_month = 30\n",
        "            elif month == 2:  # February\n",
        "                days_in_month = 29 if leap_year else 28\n",
        "            else:\n",
        "                days_in_month = 31\n",
        "\n",
        "            # Update the day of the week for the next month\n",
        "            day_of_week = (day_of_week + days_in_month) % 7\n",
        "\n",
        "    return sunday_count\n",
        "\n",
        "# Count the number of Sundays that fell on the first of the month from 1901 to 2000\n",
        "sundays_on_first = count_sundays_on_first_of_month(1901, 2000)\n",
        "\n",
        "f'The number of Sundays that fell on the first of the month from 1901 to 2000 is {sundays_on_first}'"
      ]
    }
  ]
}