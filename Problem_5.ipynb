{
  "nbformat": 4,
  "nbformat_minor": 0,
  "metadata": {
    "colab": {
      "provenance": [],
      "authorship_tag": "ABX9TyPG1RZWXFdsDVjsaNv4VEYL",
      "include_colab_link": true
    },
    "kernelspec": {
      "name": "python3",
      "display_name": "Python 3"
    },
    "language_info": {
      "name": "python"
    }
  },
  "cells": [
    {
      "cell_type": "markdown",
      "metadata": {
        "id": "view-in-github",
        "colab_type": "text"
      },
      "source": [
        "<a href=\"https://colab.research.google.com/github/AmirHosseinAlikhahMishamandani/ProjectEuler/blob/main/Problem_5.ipynb\" target=\"_parent\"><img src=\"https://colab.research.google.com/assets/colab-badge.svg\" alt=\"Open In Colab\"/></a>"
      ]
    },
    {
      "cell_type": "markdown",
      "source": [
        "# Smallest Multiple\n",
        "\n",
        "## Problem 5\n",
        "\n",
        "<p>$2520$ is the smallest number that can be divided by each of the numbers from $1$ to $10$ without any remainder.</p>\n",
        "<p>What is the smallest positive number that is <strong class=\"tooltip\">evenly divisible<span class=\"tooltiptext\"> (divisible with no remainder) </span></strong> by all of the numbers from $1$ to $20$?</p>\n"
      ],
      "metadata": {
        "id": "Ki_KBoF5WHrn"
      }
    },
    {
      "cell_type": "markdown",
      "source": [
        "## Solution\n",
        "\n",
        "The best algorithm to find the smallest positive number that is evenly divisible by all of the numbers from 1 to 20 involves calculating the least common multiple (LCM) of these numbers. Since the LCM of multiple numbers is the smallest number that all of them divide into without any remainder, this approach directly addresses your question.\n",
        "\n",
        "Here's a general approach to solving this problem:\n",
        "\n",
        "1. **Prime Factorization**: Break down each number from 1 to 20 into its prime factors.\n",
        "\n",
        "2. **Highest Power of Each Prime**: For each prime number that appears in the factorizations, find the highest power of that prime that appears.\n",
        "\n",
        "3. **Multiply the Primes**: Multiply together these highest powers of all the prime numbers. This product is the LCM of the numbers from 1 to 20, and thus the smallest number evenly divisible by all of them.\n",
        "\n",
        "This works because the LCM of two or more numbers is the product of the highest powers of all primes that appear in their prime factorizations. For example, the prime factorization of numbers 1 through 10 (as seen in the case of 2520) would involve primes 2, 3, 5, and 7. For 1 to 20, you also need to consider the primes 11, 13, 17, and 19, as they are part of the set."
      ],
      "metadata": {
        "id": "uMcYFee8WtUO"
      }
    },
    {
      "cell_type": "code",
      "execution_count": 1,
      "metadata": {
        "colab": {
          "base_uri": "https://localhost:8080/"
        },
        "id": "H5hVcHQPWGwn",
        "outputId": "a9c5bb07-e731-46b3-be24-f1c4cf33c490"
      },
      "outputs": [
        {
          "output_type": "stream",
          "name": "stdout",
          "text": [
            "232792560\n"
          ]
        }
      ],
      "source": [
        "# Import the gcd (Greatest Common Divisor) function from the math module\n",
        "from math import gcd\n",
        "\n",
        "# Define a function called \"lcm\" that calculates the least common multiple of two numbers x and y\n",
        "def lcm(x, y):\n",
        "    # Return the result of the multiplication of x and y divided by their greatest common divisor\n",
        "    return x * y // gcd(x, y)\n",
        "\n",
        "# Define a function called \"smallest_multiple\" that calculates the smallest multiple\n",
        "# that can be evenly divided by all integers from 1 to n (inclusive)\n",
        "def smallest_multiple(n):\n",
        "    # Initialize a variable \"lcm_result\" to store the least common multiple, starting with 1\n",
        "    lcm_result = 1\n",
        "    # Iterate through numbers from 1 to n\n",
        "    for i in range(1, n + 1):\n",
        "        # Update \"lcm_result\" by finding the least common multiple of \"lcm_result\" and the current value of \"i\"\n",
        "        lcm_result = lcm(lcm_result, i)\n",
        "    # Return the final least common multiple\n",
        "    return lcm_result\n",
        "\n",
        "# Calculate the smallest multiple for numbers from 1 to 20 using the \"smallest_multiple\" function\n",
        "smallest_multiple_1_to_20 = smallest_multiple(20)\n",
        "\n",
        "# Print the result, which is the smallest multiple for numbers from 1 to 20\n",
        "print(smallest_multiple_1_to_20)"
      ]
    }
  ]
}