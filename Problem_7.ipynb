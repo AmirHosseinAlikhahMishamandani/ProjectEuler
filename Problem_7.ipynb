{
  "nbformat": 4,
  "nbformat_minor": 0,
  "metadata": {
    "colab": {
      "provenance": [],
      "authorship_tag": "ABX9TyO7oCMSa1o2Tde4o3K5J3kw",
      "include_colab_link": true
    },
    "kernelspec": {
      "name": "python3",
      "display_name": "Python 3"
    },
    "language_info": {
      "name": "python"
    }
  },
  "cells": [
    {
      "cell_type": "markdown",
      "metadata": {
        "id": "view-in-github",
        "colab_type": "text"
      },
      "source": [
        "<a href=\"https://colab.research.google.com/github/AmirHosseinAlikhahMishamandani/ProjectEuler/blob/main/Problem_7.ipynb\" target=\"_parent\"><img src=\"https://colab.research.google.com/assets/colab-badge.svg\" alt=\"Open In Colab\"/></a>"
      ]
    },
    {
      "cell_type": "markdown",
      "source": [
        "# 10001st Prime\n",
        "\n",
        "## Problem 7\n",
        "\n",
        "<p>By listing the first six prime numbers: $2, 3, 5, 7, 11$, and $13$, we can see that the $6$th prime is $13$.</p>\n",
        "<p>What is the $10\\,001$st prime number?</p>"
      ],
      "metadata": {
        "id": "p5E_38cxbeMc"
      }
    },
    {
      "cell_type": "markdown",
      "source": [
        "## Solution\n",
        "\n",
        "Here's a step-by-step description of the `find_prime_at_index` algorithm:\n",
        "\n",
        "1. Define a function called `find_prime_at_index` that takes an integer argument `index`.\n",
        "\n",
        "2. Check if the given `index` is non-positive; if it is, return `None`. This step ensures that the input is valid and the index is a positive integer.\n",
        "\n",
        "3. Initialize a list called `primes` to hold prime candidates, starting with the first prime number, 2. This list will be used to store the prime numbers found during the execution of the algorithm.\n",
        "\n",
        "4. Initialize a variable called `candidate` to 3, which is the next odd number after 2. This variable will be used to iterate through odd numbers and test them for primality.\n",
        "\n",
        "5. Enter a `while` loop that continues searching for prime numbers until we have found the desired number of primes (given by `index`).\n",
        "\n",
        "6. Inside the loop, assume that the current `candidate` is prime until proven otherwise by initializing a Boolean variable called `is_prime` to `True`.\n",
        "\n",
        "7. Calculate the square root of the `candidate` and store it in a variable called `sqrt_candidate`. This step optimizes the algorithm by only checking for divisors up to the square root of the candidate.\n",
        "\n",
        "8. Enter a nested `for` loop to check if the `candidate` is divisible by any known prime numbers stored in the `primes` list. This loop iterates through the primes list.\n",
        "\n",
        "9. If the current prime number in the loop is greater than the square root of the `candidate`, exit the loop. This is because if the candidate has no divisors up to its square root, it must be prime.\n",
        "\n",
        "10. Check if the `candidate` is divisible by the current prime number. If it is, mark `is_prime` as `False` and exit the loop. This means the candidate is not prime.\n",
        "\n",
        "11. If the candidate is determined to be prime (i.e., `is_prime` is still `True`), add it to the `primes` list.\n",
        "\n",
        "12. Move on to the next candidate by incrementing `candidate` by 2. This is because even numbers greater than 2 are not prime, so we only test odd numbers for primality. This step ensures that the algorithm progresses through odd numbers only.\n",
        "\n",
        "13. Repeat steps 6-12 until the length of the `primes` list reaches the specified `index`, indicating that we have found enough prime numbers.\n",
        "\n",
        "14. Return the prime number at the specified `index`, which is the last element in the `primes` list.\n",
        "\n",
        "15. Example usage: Find the 10,001st prime number by calling `find_prime_at_index(10001)`, and store the result in the `result` variable. Then, print the result.\n",
        "\n",
        "This algorithm efficiently finds prime numbers by iteratively checking odd candidates for primality and maintaining a list of known primes to use as divisors in the primality test. It ensures that the specified number of prime numbers is found before terminating."
      ],
      "metadata": {
        "id": "IEsYNNEmcHS2"
      }
    },
    {
      "cell_type": "code",
      "execution_count": 1,
      "metadata": {
        "colab": {
          "base_uri": "https://localhost:8080/"
        },
        "id": "Ywg827K8bdpR",
        "outputId": "4c4598e0-190c-4de0-8d7a-1dbfab1a08c3"
      },
      "outputs": [
        {
          "output_type": "stream",
          "name": "stdout",
          "text": [
            "104743\n"
          ]
        }
      ],
      "source": [
        "# Define a function called find_prime_at_index that takes an integer argument index.\n",
        "def find_prime_at_index(index):\n",
        "    # Check if the given index is non-positive; return None in such cases.\n",
        "    if index <= 0:\n",
        "        return None\n",
        "\n",
        "    # Initialize a list to hold prime candidates, starting with the first prime number, 2.\n",
        "    primes = [2]\n",
        "\n",
        "    # Initialize a variable called candidate to 3, the next odd number after 2.\n",
        "    candidate = 3\n",
        "\n",
        "    # Continue searching for prime numbers until we have found the desired number of primes (given by index).\n",
        "    while len(primes) < index:\n",
        "        # Assume that the current candidate is prime until proven otherwise.\n",
        "        is_prime = True\n",
        "\n",
        "        # Calculate the square root of the candidate.\n",
        "        sqrt_candidate = int(candidate**0.5)\n",
        "\n",
        "        # Check if the candidate is divisible by any known prime up to its square root.\n",
        "        for prime in primes:\n",
        "            # If the current prime is greater than the square root of the candidate, we can stop checking.\n",
        "            if prime > sqrt_candidate:\n",
        "                break\n",
        "            # If the candidate is divisible by the current prime, mark it as not prime and exit the loop.\n",
        "            if candidate % prime == 0:\n",
        "                is_prime = False\n",
        "                break\n",
        "\n",
        "        # If the candidate is determined to be prime (is_prime is still True), add it to the list of primes.\n",
        "        if is_prime:\n",
        "            primes.append(candidate)\n",
        "\n",
        "        # Move on to the next candidate (odd numbers only since even numbers greater than 2 are not prime).\n",
        "        candidate += 2\n",
        "\n",
        "    # Return the prime number at the specified index (the last element in the primes list).\n",
        "    return primes[-1]\n",
        "\n",
        "# Example usage to find the 10,001st prime number:\n",
        "result = find_prime_at_index(10001)\n",
        "print(result)"
      ]
    }
  ]
}