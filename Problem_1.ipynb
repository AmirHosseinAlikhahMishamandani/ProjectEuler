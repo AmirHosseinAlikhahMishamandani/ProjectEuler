{
  "nbformat": 4,
  "nbformat_minor": 0,
  "metadata": {
    "colab": {
      "provenance": [],
      "authorship_tag": "ABX9TyP7zh2XjcVtIfhX1h6+2KqE",
      "include_colab_link": true
    },
    "kernelspec": {
      "name": "python3",
      "display_name": "Python 3"
    },
    "language_info": {
      "name": "python"
    }
  },
  "cells": [
    {
      "cell_type": "markdown",
      "metadata": {
        "id": "view-in-github",
        "colab_type": "text"
      },
      "source": [
        "<a href=\"https://colab.research.google.com/github/AmirHosseinAlikhahMishamandani/ProjectEuler/blob/main/Problem_1.ipynb\" target=\"_parent\"><img src=\"https://colab.research.google.com/assets/colab-badge.svg\" alt=\"Open In Colab\"/></a>"
      ]
    },
    {
      "cell_type": "markdown",
      "source": [
        "# Multiples of 3 or 5\n",
        "\n",
        "## Problem 1\n",
        "\n",
        "<p>If we list all the natural numbers below $10$ that are multiples of $3$ or $5$, we get $3, 5, 6$ and $9$. The sum of these multiples is $23$.</p>\n",
        "<p>Find the sum of all the multiples of $3$ or $5$ below $1000$.</p>"
      ],
      "metadata": {
        "id": "cj-wkEzXFOFy"
      }
    },
    {
      "cell_type": "code",
      "execution_count": 6,
      "metadata": {
        "colab": {
          "base_uri": "https://localhost:8080/"
        },
        "id": "Mx102_VcFMrI",
        "outputId": "522ed1d4-5398-40b4-8977-3b38d970df3c"
      },
      "outputs": [
        {
          "output_type": "stream",
          "name": "stdout",
          "text": [
            "233168\n"
          ]
        }
      ],
      "source": [
        "# Initialize a variable to store the sum of multiples of 3 or 5\n",
        "total_sum = 0\n",
        "\n",
        "# Loop through numbers from 1 to 999 (inclusive)\n",
        "for num in range(1, 1000):\n",
        "    # Check if the current number is a multiple of 3 or 5\n",
        "    if num % 3 == 0 or num % 5 == 0:\n",
        "        # Add the current number to the total sum\n",
        "        total_sum += num\n",
        "\n",
        "# Print the final sum of multiples of 3 or 5 below 1000\n",
        "print(total_sum)"
      ]
    }
  ]
}