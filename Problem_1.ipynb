{
  "nbformat": 4,
  "nbformat_minor": 0,
  "metadata": {
    "colab": {
      "provenance": [],
      "authorship_tag": "ABX9TyOAam+GxxLGwIDjXRNonoVz"
    },
    "kernelspec": {
      "name": "python3",
      "display_name": "Python 3"
    },
    "language_info": {
      "name": "python"
    }
  },
  "cells": [
    {
      "cell_type": "markdown",
      "source": [
        "# Multiples of 3 or 5\n",
        "\n",
        "## Problem 1\n",
        "\n",
        "<p>If we list all the natural numbers below $10$ that are multiples of $3$ or $5$, we get $3, 5, 6$ and $9$. The sum of these multiples is $23$.</p>\n",
        "<p>Find the sum of all the multiples of $3$ or $5$ below $1000$.</p>"
      ],
      "metadata": {
        "id": "cj-wkEzXFOFy"
      }
    },
    {
      "cell_type": "code",
      "execution_count": 5,
      "metadata": {
        "colab": {
          "base_uri": "https://localhost:8080/"
        },
        "id": "Mx102_VcFMrI",
        "outputId": "e9d7dea7-8b03-47e3-a7aa-79da6946aa97"
      },
      "outputs": [
        {
          "output_type": "stream",
          "name": "stdout",
          "text": [
            "233168\n"
          ]
        }
      ],
      "source": [
        "# Creating the Variable to store the sum\n",
        "sum = 0\n",
        "# Creating the loop to get the multiples of 3 or 5\n",
        "for i in range(1, 1000):\n",
        "  if i % 3 == 0 or i % 5 == 0:\n",
        "    sum = sum + i\n",
        "\n",
        "print(sum)"
      ]
    }
  ]
}