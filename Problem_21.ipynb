{
  "nbformat": 4,
  "nbformat_minor": 0,
  "metadata": {
    "colab": {
      "provenance": [],
      "authorship_tag": "ABX9TyN+Mb6G/HAh03m1fSDzMXHk",
      "include_colab_link": true
    },
    "kernelspec": {
      "name": "python3",
      "display_name": "Python 3"
    },
    "language_info": {
      "name": "python"
    }
  },
  "cells": [
    {
      "cell_type": "markdown",
      "metadata": {
        "id": "view-in-github",
        "colab_type": "text"
      },
      "source": [
        "<a href=\"https://colab.research.google.com/github/AmirHosseinAlikhahMishamandani/ProjectEuler/blob/main/Problem_21.ipynb\" target=\"_parent\"><img src=\"https://colab.research.google.com/assets/colab-badge.svg\" alt=\"Open In Colab\"/></a>"
      ]
    },
    {
      "cell_type": "markdown",
      "source": [
        "# **Amicable Numbers**\n",
        "\n",
        "<p>Let $d(n)$ be defined as the sum of proper divisors of $n$ (numbers less than $n$ which divide evenly into $n$).<br>\n",
        "If $d(a) = b$ and $d(b) = a$, where $a \\ne b$, then $a$ and $b$ are an amicable pair and each of $a$ and $b$ are called amicable numbers.</p>\n",
        "<p>For example, the proper divisors of $220$ are $1, 2, 4, 5, 10, 11, 20, 22, 44, 55$ and $110$; therefore $d(220) = 284$. The proper divisors of $284$ are $1, 2, 4, 71$ and $142$; so $d(284) = 220$.</p>\n",
        "<p>Evaluate the sum of all the amicable numbers under $10000$.</p>"
      ],
      "metadata": {
        "id": "l7AYxJ8mqpr4"
      }
    },
    {
      "cell_type": "markdown",
      "source": [
        "# **Solution**\n",
        "\n",
        "1. **Define the Function to Calculate Sum of Divisors**:\n",
        "    - Create a function `sum_of_divisors(n)` that calculates the sum of proper divisors of `n`.\n",
        "    - Initialize an array `divisors` with the element 1, as 1 is a divisor for all numbers.\n",
        "    - Loop from 2 to the square root of `n` (inclusive).\n",
        "    - If `i` is a divisor of `n`, add `i` and `n/i` to the list of divisors.\n",
        "    - Return the sum of the divisors.\n",
        "\n",
        "2. **Define the Function to Find Amicable Numbers**:\n",
        "    - Create a function `find_amicable_numbers(limit)` to find all amicable numbers under a given limit.\n",
        "    - Initialize an empty set `amicable_numbers` to store the amicable numbers.\n",
        "    - Loop over the range from 2 to `limit`.\n",
        "    - For each number `a`, calculate `b` as the sum of divisors of `a`.\n",
        "    - If `a` is not equal to `b` and the sum of divisors of `b` is `a`, then `a` and `b` are amicable.\n",
        "    - Add both `a` and `b` to the set of amicable numbers.\n",
        "    - Return the set of amicable numbers.\n",
        "\n",
        "3. **Calculate the Sum of Amicable Numbers Under 10,000**:\n",
        "    - Call `find_amicable_numbers(10000)` and sum the numbers in the returned set.\n",
        "    - Output the sum as the result."
      ],
      "metadata": {
        "id": "b9W9KaUArYT7"
      }
    },
    {
      "cell_type": "code",
      "execution_count": 1,
      "metadata": {
        "colab": {
          "base_uri": "https://localhost:8080/"
        },
        "id": "_-UKt4EtqTFh",
        "outputId": "4a84f3f2-c87e-4e3b-b350-542e72e818a6"
      },
      "outputs": [
        {
          "output_type": "stream",
          "name": "stdout",
          "text": [
            "Sum of all amicable numbers under 10000 is 31626\n"
          ]
        }
      ],
      "source": [
        "def sum_of_divisors(n):\n",
        "    \"\"\"Calculate the sum of proper divisors of n.\"\"\"\n",
        "    divisors = [1]\n",
        "    for i in range(2, int(n**0.5) + 1):\n",
        "        if n % i == 0:\n",
        "            divisors.append(i)\n",
        "            if i != n // i:\n",
        "                divisors.append(n // i)\n",
        "    return sum(divisors)\n",
        "\n",
        "def find_amicable_numbers(limit):\n",
        "    \"\"\"Find all amicable numbers under a given limit.\"\"\"\n",
        "    amicable_numbers = set()\n",
        "    for a in range(2, limit):\n",
        "        b = sum_of_divisors(a)\n",
        "        if a != b and sum_of_divisors(b) == a:\n",
        "            amicable_numbers.add(a)\n",
        "            amicable_numbers.add(b)\n",
        "    return amicable_numbers\n",
        "\n",
        "# Sum of all amicable numbers under 10000\n",
        "sum_amicable_numbers = sum(find_amicable_numbers(10000))\n",
        "print(f'Sum of all amicable numbers under 10000 is {sum_amicable_numbers}')"
      ]
    }
  ]
}