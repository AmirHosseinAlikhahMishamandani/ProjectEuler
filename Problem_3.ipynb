{
  "nbformat": 4,
  "nbformat_minor": 0,
  "metadata": {
    "colab": {
      "provenance": [],
      "authorship_tag": "ABX9TyNw0W741LlKMA+uDl8DUULj",
      "include_colab_link": true
    },
    "kernelspec": {
      "name": "python3",
      "display_name": "Python 3"
    },
    "language_info": {
      "name": "python"
    }
  },
  "cells": [
    {
      "cell_type": "markdown",
      "metadata": {
        "id": "view-in-github",
        "colab_type": "text"
      },
      "source": [
        "<a href=\"https://colab.research.google.com/github/AmirHosseinAlikhahMishamandani/ProjectEuler/blob/main/Problem_3.ipynb\" target=\"_parent\"><img src=\"https://colab.research.google.com/assets/colab-badge.svg\" alt=\"Open In Colab\"/></a>"
      ]
    },
    {
      "cell_type": "markdown",
      "source": [
        "# Largest Prime Factor\n",
        "\n",
        "## Problem 3\n",
        "\n",
        "<p>The prime factors of $13195$ are $5, 7, 13$ and $29$.</p>\n",
        "<p>What is the largest prime factor of the number $600851475143$?</p>"
      ],
      "metadata": {
        "id": "XMJfbBu1LLR1"
      }
    },
    {
      "cell_type": "markdown",
      "source": [
        "## Solution\n",
        "\n",
        "The approach used in the code to find the largest prime factor of a given number \\( n \\) (in this case, \\( 600851475143 \\)) involves a few key steps:\n",
        "\n",
        "1. **Initial Divisions by 2**:\n",
        "   - The code starts by removing all the even factors of \\( n \\). This is done by repeatedly dividing \\( n \\) by 2 until it is no longer divisible by 2.\n",
        "   - During this process, if \\( n \\) is divisible by 2, the largest factor is updated to 2.\n",
        "\n",
        "2. **Checking for Odd Factors**:\n",
        "   - After all even factors are removed, the code proceeds to check for odd factors.\n",
        "   - It does this by iterating over all odd numbers starting from 3. The iteration goes up to the square root of \\( n \\) because if \\( n \\) has a factor greater than its square root, it must also have a factor smaller than its square root (hence no need to check beyond the square root).\n",
        "\n",
        "3. **Dividing by Odd Factors**:\n",
        "   - For each odd number (factor), the code checks if it divides \\( n \\). If it does, \\( n \\) is divided by this factor, and the largest factor is updated to this odd number.\n",
        "   - The factor is incremented by 2 after each iteration (since we've already accounted for all even numbers, we only need to check odd numbers).\n",
        "\n",
        "4. **Checking if \\( n \\) is Prime**:\n",
        "   - After the loop, if \\( n \\) is greater than 2, it means that \\( n \\) itself is a prime number and is the largest prime factor. This is because all smaller factors have already been divided out.\n",
        "   - Therefore, if \\( n \\) is greater than 2 at this point, it's set as the largest prime factor.\n",
        "\n",
        "This approach is efficient because it minimizes the number of divisions needed:\n",
        "- By removing all multiples of 2 first, it reduces the size of \\( n \\) significantly in cases where \\( n \\) has 2 as a prime factor.\n",
        "- Then, by only checking odd numbers up to the square root of the remaining \\( n \\), it further reduces the computational workload.\n",
        "\n",
        "The result is a fast and memory-optimized solution to find the largest prime factor of a given number."
      ],
      "metadata": {
        "id": "uaNioiP7Svhb"
      }
    },
    {
      "cell_type": "code",
      "execution_count": 2,
      "metadata": {
        "id": "TqwsZteDLG0K",
        "colab": {
          "base_uri": "https://localhost:8080/"
        },
        "outputId": "a552bf53-8404-4edf-d578-fc8045a6783b"
      },
      "outputs": [
        {
          "output_type": "execute_result",
          "data": {
            "text/plain": [
              "6857"
            ]
          },
          "metadata": {},
          "execution_count": 2
        }
      ],
      "source": [
        "def largest_prime_factor(n):\n",
        "    # Initialize the largest prime factor variable\n",
        "    largest_factor = 0\n",
        "\n",
        "    # Divide n by 2 to remove all even factors\n",
        "    while n % 2 == 0:\n",
        "        largest_factor = 2\n",
        "        n //= 2\n",
        "\n",
        "    # Iterate from 3 to sqrt(n)\n",
        "    factor = 3\n",
        "    while factor * factor <= n:\n",
        "        # If n is divisible by the factor, divide n by it and update largest_factor\n",
        "        while n % factor == 0:\n",
        "            largest_factor = factor\n",
        "            n //= factor\n",
        "        # Increment the factor by 2 (since we've already removed even numbers)\n",
        "        factor += 2\n",
        "\n",
        "    # If n is a prime number greater than 2\n",
        "    if n > 2:\n",
        "        largest_factor = n\n",
        "\n",
        "    return largest_factor\n",
        "\n",
        "# Finding the largest prime factor of 600851475143\n",
        "largest_prime_factor(600851475143)"
      ]
    }
  ]
}