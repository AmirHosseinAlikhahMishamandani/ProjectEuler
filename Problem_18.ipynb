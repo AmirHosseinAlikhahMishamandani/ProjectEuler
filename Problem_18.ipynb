{
  "nbformat": 4,
  "nbformat_minor": 0,
  "metadata": {
    "colab": {
      "provenance": [],
      "authorship_tag": "ABX9TyNwiIR+pWT/pYshvJIwiBq3",
      "include_colab_link": true
    },
    "kernelspec": {
      "name": "python3",
      "display_name": "Python 3"
    },
    "language_info": {
      "name": "python"
    }
  },
  "cells": [
    {
      "cell_type": "markdown",
      "metadata": {
        "id": "view-in-github",
        "colab_type": "text"
      },
      "source": [
        "<a href=\"https://colab.research.google.com/github/AmirHosseinAlikhahMishamandani/ProjectEuler/blob/main/Problem_18.ipynb\" target=\"_parent\"><img src=\"https://colab.research.google.com/assets/colab-badge.svg\" alt=\"Open In Colab\"/></a>"
      ]
    },
    {
      "cell_type": "markdown",
      "source": [
        "# **Maximum Path Sum I**\n",
        "\n",
        "<p>By starting at the top of the triangle below and moving to adjacent numbers on the row below, the maximum total from top to bottom is $23$.</p>\n",
        "<p class=\"monospace center\"><span class=\"red\"><b>3</b></span><br><span class=\"red\"><b>7</b></span> 4<br>\n",
        "2 <span class=\"red\"><b>4</b></span> 6<br>\n",
        "8 5 <span class=\"red\"><b>9</b></span> 3</p>\n",
        "<p>That is, $3 + 7 + 4 + 9 = 23$.</p>\n",
        "<p>Find the maximum total from top to bottom of the triangle below:</p>\n",
        "<p class=\"monospace center\">75<br>\n",
        "95 64<br>\n",
        "17 47 82<br>\n",
        "18 35 87 10<br>\n",
        "20 04 82 47 65<br>\n",
        "19 01 23 75 03 34<br>\n",
        "88 02 77 73 07 63 67<br>\n",
        "99 65 04 28 06 16 70 92<br>\n",
        "41 41 26 56 83 40 80 70 33<br>\n",
        "41 48 72 33 47 32 37 16 94 29<br>\n",
        "53 71 44 65 25 43 91 52 97 51 14<br>\n",
        "70 11 33 28 77 73 17 78 39 68 17 57<br>\n",
        "91 71 52 38 17 14 91 43 58 50 27 29 48<br>\n",
        "63 66 04 68 89 53 67 30 73 16 69 87 40 31<br>\n",
        "04 62 98 27 23 09 70 98 73 93 38 53 60 04 23</p>\n",
        "<p class=\"note\"><b>NOTE:</b> As there are only $16384$ routes, it is possible to solve this problem by trying every route. However, <a href=\"problem=67\">Problem 67</a>, is the same challenge with a triangle containing one-hundred rows; it cannot be solved by brute force, and requires a clever method! ;o)</p>"
      ],
      "metadata": {
        "id": "t4bpOtKAmEwt"
      }
    },
    {
      "cell_type": "markdown",
      "source": [
        "# **Solution**\n",
        "\n",
        "This algorithm finds the maximum total path sum in a triangle of numbers using a bottom-up dynamic programming approach.\n",
        "\n",
        "## Algorithm Steps:\n",
        "\n",
        "## Algorithm Steps:\n",
        "\n",
        "1. **Start from the second to last row of the triangle**:\n",
        "   - Here, the second to last row is `63 66 04 68 89 53 67 30 73 16 69 87 40 31`.\n",
        "\n",
        "2. **For each number in the current row**:\n",
        "   - Add to it the maximum of the two adjacent numbers from the row below.\n",
        "   - For example, for the first number `63`, add the maximum of `4` and `62`, which is `62`. So, `63` becomes `125`.\n",
        "   - Continue this for the entire row.\n",
        "\n",
        "3. **Move to the next row up and repeat**:\n",
        "   - Continue the process for each row until the top of the triangle is reached.\n",
        "\n",
        "4. **The top element now contains the maximum total**:\n",
        "   - After processing all rows, the top element of the triangle will hold the maximum total sum.\n"
      ],
      "metadata": {
        "id": "xXy74Dr5mmrh"
      }
    },
    {
      "cell_type": "code",
      "execution_count": 1,
      "metadata": {
        "colab": {
          "base_uri": "https://localhost:8080/",
          "height": 35
        },
        "id": "u-oGJdSPlw9G",
        "outputId": "0ce5e100-61c3-48d7-864a-744f97d6147d"
      },
      "outputs": [
        {
          "output_type": "execute_result",
          "data": {
            "text/plain": [
              "'The maximum total from top to bottom of the triangle is 1074'"
            ],
            "application/vnd.google.colaboratory.intrinsic+json": {
              "type": "string"
            }
          },
          "metadata": {},
          "execution_count": 1
        }
      ],
      "source": [
        "# The problem described is a classic example of a dynamic programming problem.\n",
        "# We'll solve it using a bottom-up approach.\n",
        "\n",
        "triangle = [\n",
        "    [75],\n",
        "    [95, 64],\n",
        "    [17, 47, 82],\n",
        "    [18, 35, 87, 10],\n",
        "    [20, 4, 82, 47, 65],\n",
        "    [19, 1, 23, 75, 3, 34],\n",
        "    [88, 2, 77, 73, 7, 63, 67],\n",
        "    [99, 65, 4, 28, 6, 16, 70, 92],\n",
        "    [41, 41, 26, 56, 83, 40, 80, 70, 33],\n",
        "    [41, 48, 72, 33, 47, 32, 37, 16, 94, 29],\n",
        "    [53, 71, 44, 65, 25, 43, 91, 52, 97, 51, 14],\n",
        "    [70, 11, 33, 28, 77, 73, 17, 78, 39, 68, 17, 57],\n",
        "    [91, 71, 52, 38, 17, 14, 91, 43, 58, 50, 27, 29, 48],\n",
        "    [63, 66, 4, 68, 89, 53, 67, 30, 73, 16, 69, 87, 40, 31],\n",
        "    [4, 62, 98, 27, 23, 9, 70, 98, 73, 93, 38, 53, 60, 4, 23]\n",
        "]\n",
        "\n",
        "# Starting from the second to last row, add the maximum of the two adjacent numbers from the row below to each number\n",
        "for row in range(len(triangle)-2, -1, -1):\n",
        "    for col in range(len(triangle[row])):\n",
        "        triangle[row][col] += max(triangle[row+1][col], triangle[row+1][col+1])\n",
        "\n",
        "# The top element of the triangle now contains the maximum total\n",
        "max_total = triangle[0][0]\n",
        "\n",
        "f'The maximum total from top to bottom of the triangle is {max_total}'"
      ]
    }
  ]
}