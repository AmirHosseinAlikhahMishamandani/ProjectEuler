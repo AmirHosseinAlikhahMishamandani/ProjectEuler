{
  "nbformat": 4,
  "nbformat_minor": 0,
  "metadata": {
    "colab": {
      "provenance": [],
      "authorship_tag": "ABX9TyP77Scq1c4cm+LPag8PFLsQ",
      "include_colab_link": true
    },
    "kernelspec": {
      "name": "python3",
      "display_name": "Python 3"
    },
    "language_info": {
      "name": "python"
    }
  },
  "cells": [
    {
      "cell_type": "markdown",
      "metadata": {
        "id": "view-in-github",
        "colab_type": "text"
      },
      "source": [
        "<a href=\"https://colab.research.google.com/github/AmirHosseinAlikhahMishamandani/ProjectEuler/blob/main/Problem_25.ipynb\" target=\"_parent\"><img src=\"https://colab.research.google.com/assets/colab-badge.svg\" alt=\"Open In Colab\"/></a>"
      ]
    },
    {
      "cell_type": "markdown",
      "source": [
        "# **1000-digit Fibonacci Number**\n",
        "\n",
        "# 1000-digit Fibonacci Number\n",
        "\n",
        "The Fibonacci sequence is defined by the recurrence relation:\n",
        "\n",
        "$F_n = F_{n - 1} + F_{n - 2}$\n",
        "\n",
        "where $(F_1 = 1)$ and $(F_2 = 1)$.\n",
        "\n",
        "Hence the first 12 terms will be:\n",
        "\n",
        "\\begin{align*}\n",
        "F_1 & = 1\\\\\n",
        "F_2 & = 1\\\\\n",
        "F_3 & = 2\\\\\n",
        "F_4 & = 3\\\\\n",
        "F_5 & = 5\\\\\n",
        "F_6 & = 8\\\\\n",
        "F_7 & = 13\\\\\n",
        "F_8 & = 21\\\\\n",
        "F_9 & = 34\\\\\n",
        "F_{10} & = 55\\\\\n",
        "F_{11} & = 89\\\\\n",
        "F_{12} & = 144\n",
        "\\end{align*}\n",
        "\n",
        "The 12th term, $(F_{12})$, is the first term to contain three digits.\n",
        "\n",
        "What is the index of the first term in the Fibonacci sequence to contain 1000 digits?\n"
      ],
      "metadata": {
        "id": "3SMYwJKu-ZYl"
      }
    },
    {
      "cell_type": "code",
      "execution_count": 6,
      "metadata": {
        "colab": {
          "base_uri": "https://localhost:8080/"
        },
        "id": "b_yfTDb--VS1",
        "outputId": "785e3304-e9b8-4767-ae22-3e2310775867"
      },
      "outputs": [
        {
          "output_type": "stream",
          "name": "stdout",
          "text": [
            "The index of the first Fibonacci number with 1000 digits is 4781\n"
          ]
        }
      ],
      "source": [
        "def search_index_fibonacci(num_digits):\n",
        "    \"\"\"\n",
        "    Find the index of the first Fibonacci number with 'num_digits' digits.\n",
        "\n",
        "    Args:\n",
        "    num_digits (int): The number of digits to search for in the Fibonacci sequence.\n",
        "\n",
        "    Returns:\n",
        "    int: The index of the first Fibonacci number with 'num_digits' digits.\n",
        "    \"\"\"\n",
        "    # The first two Fibonacci numbers\n",
        "    F_n_1, F_n_2 = 1, 1\n",
        "\n",
        "    # Special case for single-digit Fibonacci numbers\n",
        "    if num_digits == 1:\n",
        "        return 1\n",
        "    else:\n",
        "        index = 2\n",
        "        while len(str(F_n_1 + F_n_2)) < num_digits:\n",
        "            F_n_1, F_n_2 = F_n_2, F_n_1 + F_n_2\n",
        "            index += 1\n",
        "\n",
        "        return index\n",
        "\n",
        "num_digits = 1000\n",
        "\n",
        "print(f'The index of the first Fibonacci number with {num_digits} digits is {search_index_fibonacci(num_digits)}')"
      ]
    }
  ]
}