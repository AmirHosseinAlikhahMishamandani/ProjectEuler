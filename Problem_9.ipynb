{
  "nbformat": 4,
  "nbformat_minor": 0,
  "metadata": {
    "colab": {
      "provenance": [],
      "authorship_tag": "ABX9TyObECVafZrX9VVAhB1PgGpt",
      "include_colab_link": true
    },
    "kernelspec": {
      "name": "python3",
      "display_name": "Python 3"
    },
    "language_info": {
      "name": "python"
    }
  },
  "cells": [
    {
      "cell_type": "markdown",
      "metadata": {
        "id": "view-in-github",
        "colab_type": "text"
      },
      "source": [
        "<a href=\"https://colab.research.google.com/github/AmirHosseinAlikhahMishamandani/ProjectEuler/blob/main/Problem_9.ipynb\" target=\"_parent\"><img src=\"https://colab.research.google.com/assets/colab-badge.svg\" alt=\"Open In Colab\"/></a>"
      ]
    },
    {
      "cell_type": "markdown",
      "source": [
        "# Special Pythagorean Triplet\n",
        "\n",
        "## Problem 9\n",
        "\n",
        "<p>A Pythagorean triplet is a set of three natural numbers, $a \\lt b \\lt c$, for which,\n",
        "$$a^2 + b^2 = c^2.$$</p>\n",
        "<p>For example, $3^2 + 4^2 = 9 + 16 = 25 = 5^2$.</p>\n",
        "<p>There exists exactly one Pythagorean triplet for which $a + b + c = 1000$.<br>Find the product $abc$.</p>\n"
      ],
      "metadata": {
        "id": "KplLXUWwgWqo"
      }
    },
    {
      "cell_type": "code",
      "execution_count": 9,
      "metadata": {
        "colab": {
          "base_uri": "https://localhost:8080/"
        },
        "id": "fyTiPvmxgS-d",
        "outputId": "c00641e3-c1e7-4fbf-d12a-cdf6f5ac4edc"
      },
      "outputs": [
        {
          "output_type": "stream",
          "name": "stdout",
          "text": [
            "31875000\n"
          ]
        }
      ],
      "source": [
        "# Loop through potential values for 'a', up to 332.\n",
        "# 'a' cannot be more than 332 because 'a', 'b', and 'c' are positive integers,\n",
        "# and 'a' must be less than 'b' and 'c'.\n",
        "for a in range(1, 333):\n",
        "    # Loop through potential values for 'b', starting from 'a+1' to ensure 'a < b'.\n",
        "    # 'b' cannot be more than 499 because 'a + b + c' must equal 1000,\n",
        "    # and 'b' must be less than 'c'.\n",
        "    for b in range(a + 1, 500):\n",
        "        # Calculate 'c' directly using the equation 'a + b + c = 1000'.\n",
        "        # This removes the need for a third loop.\n",
        "        c = 1000 - a - b\n",
        "\n",
        "        # Check if 'a', 'b', and 'c' form a Pythagorean triplet, i.e., if 'a^2 + b^2 = c^2'.\n",
        "        # This is the core condition of the problem.\n",
        "        if a**2 + b**2 == c**2:\n",
        "            # If the condition is met, print the product 'a * b * c'.\n",
        "            # This is the required output.\n",
        "            print(a * b * c)\n",
        "\n",
        "            # Break out of the inner loop once the correct triplet is found,\n",
        "            # as we only need one such triplet.\n",
        "            break\n"
      ]
    }
  ]
}