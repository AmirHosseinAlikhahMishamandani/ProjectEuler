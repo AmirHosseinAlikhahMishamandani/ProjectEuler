{
  "nbformat": 4,
  "nbformat_minor": 0,
  "metadata": {
    "colab": {
      "provenance": [],
      "authorship_tag": "ABX9TyPHiTMbkZRZ5mcTLExyndYg",
      "include_colab_link": true
    },
    "kernelspec": {
      "name": "python3",
      "display_name": "Python 3"
    },
    "language_info": {
      "name": "python"
    }
  },
  "cells": [
    {
      "cell_type": "markdown",
      "metadata": {
        "id": "view-in-github",
        "colab_type": "text"
      },
      "source": [
        "<a href=\"https://colab.research.google.com/github/AmirHosseinAlikhahMishamandani/ProjectEuler/blob/main/Problem_4.ipynb\" target=\"_parent\"><img src=\"https://colab.research.google.com/assets/colab-badge.svg\" alt=\"Open In Colab\"/></a>"
      ]
    },
    {
      "cell_type": "markdown",
      "source": [
        "# Largest Palindrome Product\n",
        "\n",
        "## Problem 4\n",
        "\n",
        "<p>A palindromic number reads the same both ways. The largest palindrome made from the product of two $2$-digit numbers is $9009 = 91 \\times 99$.</p>\n",
        "<p>Find the largest palindrome made from the product of two $3$-digit numbers.</p>\n"
      ],
      "metadata": {
        "id": "L6S8dWlkTYNk"
      }
    },
    {
      "cell_type": "markdown",
      "source": [
        "## Solution\n",
        "\n",
        "To find the largest palindrome made from the product of two 3-digit numbers, we can use a brute force approach. Here's how the algorithm works:\n",
        "\n",
        "1. **Initialize Variables:** Set a variable to store the maximum palindrome found (`max_palindrome`) and initialize it to zero.\n",
        "\n",
        "2. **Outer Loop for First Number:** Loop through all 3-digit numbers for the first multiplier. A 3-digit number ranges from 100 to 999.\n",
        "\n",
        "3. **Inner Loop for Second Number:** For each number in the outer loop, loop through all 3-digit numbers for the second multiplier.\n",
        "\n",
        "4. **Check for Palindrome:** For each product of the two numbers, check if it's a palindrome. To check for a palindrome, you can convert the number to a string and compare it with its reverse.\n",
        "\n",
        "5. **Update Maximum Palindrome:** If the product is a palindrome and greater than the current `max_palindrome`, update `max_palindrome` with this product.\n",
        "\n",
        "6. **Optimization:** Since we are looking for the largest palindrome, we can start the loops from 999 and go downwards. This ensures that we find the largest palindrome earlier.\n",
        "\n",
        "7. **Result:** After completing the loops, the value in `max_palindrome` will be the largest palindrome made from the product of two 3-digit numbers."
      ],
      "metadata": {
        "id": "ja2xpnXxUsNK"
      }
    },
    {
      "cell_type": "code",
      "execution_count": 1,
      "metadata": {
        "colab": {
          "base_uri": "https://localhost:8080/"
        },
        "id": "ZFqzb-5STJpJ",
        "outputId": "606a8c6d-baee-4580-f323-5f298cb3f361"
      },
      "outputs": [
        {
          "output_type": "stream",
          "name": "stdout",
          "text": [
            "906609\n"
          ]
        }
      ],
      "source": [
        "def is_palindrome(num):\n",
        "    # This function checks if a given number (num) is a palindrome.\n",
        "    # It first converts the number into a string using str(num).\n",
        "    # Then it compares the string with its reverse (str(num)[::-1]).\n",
        "    # The [::-1] slice reverses the string.\n",
        "    # The function returns True if the number is a palindrome, False otherwise.\n",
        "    return str(num) == str(num)[::-1]\n",
        "\n",
        "def largest_palindrome_product():\n",
        "    # This function finds the largest palindrome made from the product of two 3-digit numbers.\n",
        "\n",
        "    max_palindrome = 0  # Initialize the maximum palindrome found to 0.\n",
        "\n",
        "    for i in range(999, 99, -1):  # Loop over all 3-digit numbers for the first multiplier.\n",
        "        # Start from 999 and go down to 100 (99 is exclusive in the range).\n",
        "        for j in range(999, 99, -1):  # Loop over all 3-digit numbers for the second multiplier.\n",
        "            # Same as the first loop, this iterates from 999 down to 100.\n",
        "            product = i * j  # Calculate the product of the two numbers.\n",
        "\n",
        "            # Check if the product is a palindrome and if it's greater than the current max palindrome.\n",
        "            if is_palindrome(product) and product > max_palindrome:\n",
        "                max_palindrome = product  # Update max_palindrome with the larger palindrome found.\n",
        "\n",
        "    return max_palindrome  # Return the largest palindrome found after completing the loops.\n",
        "\n",
        "# Execute the function to find the largest palindrome.\n",
        "largest_palindrome = largest_palindrome_product()\n",
        "# This line calls the largest_palindrome_product function and stores the result in largest_palindrome.\n",
        "\n",
        "print(largest_palindrome)\n",
        "# This is the output statement that will display the largest palindrome found."
      ]
    }
  ]
}