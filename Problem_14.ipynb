{
  "nbformat": 4,
  "nbformat_minor": 0,
  "metadata": {
    "colab": {
      "provenance": [],
      "authorship_tag": "ABX9TyM2jV2R3vvOwxvpxj3YC3BW",
      "include_colab_link": true
    },
    "kernelspec": {
      "name": "python3",
      "display_name": "Python 3"
    },
    "language_info": {
      "name": "python"
    }
  },
  "cells": [
    {
      "cell_type": "markdown",
      "metadata": {
        "id": "view-in-github",
        "colab_type": "text"
      },
      "source": [
        "<a href=\"https://colab.research.google.com/github/AmirHosseinAlikhahMishamandani/ProjectEuler/blob/main/Problem_14.ipynb\" target=\"_parent\"><img src=\"https://colab.research.google.com/assets/colab-badge.svg\" alt=\"Open In Colab\"/></a>"
      ]
    },
    {
      "cell_type": "markdown",
      "source": [
        "# **Longest Collatz Sequence**\n",
        "\n",
        "<p>The following iterative sequence is defined for the set of positive integers:</p>\n",
        "<ul style=\"list-style-type:none;\">\n",
        "<li>$n \\to n/2$ ($n$ is even)</li>\n",
        "<li>$n \\to 3n + 1$ ($n$ is odd)</li></ul>\n",
        "<p>Using the rule above and starting with $13$, we generate the following sequence:\n",
        "$$13 \\to 40 \\to 20 \\to 10 \\to 5 \\to 16 \\to 8 \\to 4 \\to 2 \\to 1.$$</p>\n",
        "<p>It can be seen that this sequence (starting at $13$ and finishing at $1$) contains $10$ terms. Although it has not been proved yet (Collatz Problem), it is thought that all starting numbers finish at $1$.</p>\n",
        "<p>Which starting number, under one million, produces the longest chain?</p>\n",
        "<p class=\"note\"><b>NOTE:</b> Once the chain starts the terms are allowed to go above one million.</p>\n",
        "\n"
      ],
      "metadata": {
        "id": "Hp2d-KkQcSXv"
      }
    },
    {
      "cell_type": "code",
      "execution_count": 1,
      "metadata": {
        "colab": {
          "base_uri": "https://localhost:8080/",
          "height": 35
        },
        "id": "fdbVFwxfcR4U",
        "outputId": "95ac2ff4-e8d3-4a25-cf43-c90159c0296f"
      },
      "outputs": [
        {
          "output_type": "execute_result",
          "data": {
            "text/plain": [
              "'The starting number under 1000000 that produces the longest Collatz sequence chain is 837799, with a chain length of 525 terms.'"
            ],
            "application/vnd.google.colaboratory.intrinsic+json": {
              "type": "string"
            }
          },
          "metadata": {},
          "execution_count": 1
        }
      ],
      "source": [
        "def find_longest_collatz_chain(limit):\n",
        "    max_length = 0\n",
        "    number_with_max_length = 0\n",
        "\n",
        "    for i in range(1, limit):\n",
        "        n = i\n",
        "        length = 1\n",
        "        while n > 1:\n",
        "            if n % 2 == 0:\n",
        "                n = n // 2\n",
        "            else:\n",
        "                n = 3 * n + 1\n",
        "            length += 1\n",
        "\n",
        "        if length > max_length:\n",
        "            max_length = length\n",
        "            number_with_max_length = i\n",
        "\n",
        "    return number_with_max_length, max_length\n",
        "\n",
        "# Finding the number under one million with the longest Collatz chain\n",
        "limit = 1000000\n",
        "number, chain_length = find_longest_collatz_chain(limit)\n",
        "\n",
        "f\"The starting number under {limit} that produces the longest Collatz sequence chain is {number}, with a chain length of {chain_length} terms.\""
      ]
    }
  ]
}