{
  "nbformat": 4,
  "nbformat_minor": 0,
  "metadata": {
    "colab": {
      "provenance": [],
      "authorship_tag": "ABX9TyOypI/k+EHSjCSGTa/9wEWc",
      "include_colab_link": true
    },
    "kernelspec": {
      "name": "python3",
      "display_name": "Python 3"
    },
    "language_info": {
      "name": "python"
    }
  },
  "cells": [
    {
      "cell_type": "markdown",
      "metadata": {
        "id": "view-in-github",
        "colab_type": "text"
      },
      "source": [
        "<a href=\"https://colab.research.google.com/github/AmirHosseinAlikhahMishamandani/ProjectEuler/blob/main/Problem_24.ipynb\" target=\"_parent\"><img src=\"https://colab.research.google.com/assets/colab-badge.svg\" alt=\"Open In Colab\"/></a>"
      ]
    },
    {
      "cell_type": "markdown",
      "source": [
        "# **Lexicographic Permutations**\n",
        "\n",
        "<p>A permutation is an ordered arrangement of objects. For example, 3124 is one possible permutation of the digits 1, 2, 3 and 4. If all of the permutations are listed numerically or alphabetically, we call it lexicographic order. The lexicographic permutations of 0, 1 and 2 are:</p>\n",
        "<p class=\"center\">012   021   102   120   201   210</p>\n",
        "<p>What is the millionth lexicographic permutation of the digits 0, 1, 2, 3, 4, 5, 6, 7, 8 and 9?</p>\n"
      ],
      "metadata": {
        "id": "ZLw2gZiw7s-y"
      }
    },
    {
      "cell_type": "code",
      "execution_count": 9,
      "metadata": {
        "colab": {
          "base_uri": "https://localhost:8080/"
        },
        "id": "QQzJMATm7Oae",
        "outputId": "59658979-62e5-463b-f264-1829af95ecd0"
      },
      "outputs": [
        {
          "output_type": "stream",
          "name": "stdout",
          "text": [
            "The millionth lexicographic permutation of the digits 0-9 is 2783915460\n"
          ]
        }
      ],
      "source": [
        "import itertools\n",
        "\n",
        "def find_lexicographic_permutation(digits, position):\n",
        "    \"\"\"\n",
        "    Finds the nth lexicographic permutation of a given list of digits.\n",
        "\n",
        "    Parameters:\n",
        "    digits (list): A list of digits or characters to permute.\n",
        "    position (int): The 1-based index of the desired lexicographic permutation.\n",
        "\n",
        "    Returns:\n",
        "    str: The nth lexicographic permutation as a string.\n",
        "    \"\"\"\n",
        "    if position < 1 or position > len(list(itertools.permutations(digits))):\n",
        "        raise ValueError(\"Position out of range for the number of permutations.\")\n",
        "\n",
        "    # Compute the permutation directly without generating all permutations\n",
        "    return ''.join(next(itertools.islice(itertools.permutations(digits), position - 1, None)))\n",
        "\n",
        "# Define the list of digits\n",
        "my_list = ['0', '1', '2', '3', '4', '5', '6', '7', '8', '9']\n",
        "\n",
        "# Find and print the millionth lexicographic permutation\n",
        "try:\n",
        "    millionth_permutation = find_lexicographic_permutation(my_list, 1000000)\n",
        "    print(f'The millionth lexicographic permutation of the digits 0-9 is {millionth_permutation}')\n",
        "except ValueError as e:\n",
        "    print(e)\n"
      ]
    }
  ]
}